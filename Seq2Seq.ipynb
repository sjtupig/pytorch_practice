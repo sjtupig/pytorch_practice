{
 "cells": [
  {
   "cell_type": "code",
   "execution_count": 1,
   "metadata": {},
   "outputs": [],
   "source": [
    "import torch\n",
    "import torch.nn.functional as F\n",
    "from torch import optim\n",
    "from torch import nn\n",
    "from torch.utils.data import TensorDataset, DataLoader"
   ]
  },
  {
   "cell_type": "markdown",
   "metadata": {},
   "source": [
    "首先创建数据集，每个句子都以EOS结束，以PAD填充.翻译时以EOS开始"
   ]
  },
  {
   "cell_type": "code",
   "execution_count": 2,
   "metadata": {},
   "outputs": [],
   "source": [
    "PAD, BOS, EOS = '<pad>', '<bos>', '<eos>'\n",
    "#设置每个句子最长为10\n",
    "max_length = 10"
   ]
  },
  {
   "cell_type": "code",
   "execution_count": 3,
   "metadata": {},
   "outputs": [],
   "source": [
    "def process_seq(seq_tokens, word_tokens, seqs):\n",
    "    for i in seq_tokens:\n",
    "        if i not in word_tokens:\n",
    "            word_tokens[i] = max(word_tokens.values())+1\n",
    "    seq_tokens += [EOS]+[PAD]*(max_length-len(seq_tokens)-1)\n",
    "    seqs.append(seq_tokens)"
   ]
  },
  {
   "cell_type": "code",
   "execution_count": 4,
   "metadata": {},
   "outputs": [],
   "source": [
    "en_word_tokens = {\n",
    "    '<pad>':0,\n",
    "    '<bos>':1,\n",
    "    '<eos>':1\n",
    "}#存词-索引字典\n",
    "fr_word_tokens = {\n",
    "    '<pad>':0,\n",
    "    '<bos>':1,\n",
    "    '<eos>':2\n",
    "}\n",
    "en_seqs = []#输入数据的索引数据\n",
    "fr_seqs = []\n",
    "with open('data\\\\eng-fra.txt', 'r', encoding='utf8') as f:\n",
    "    lines = f.readlines()\n",
    "    for line in lines:\n",
    "        en_seq, fr_seq = line.strip().split('\\t')\n",
    "        en_tokens, fr_tokens = en_seq.strip().split(' '), fr_seq.strip().split(' ')\n",
    "        if max(len(en_tokens), len(fr_tokens)) > max_length-1:\n",
    "            continue\n",
    "        process_seq(en_tokens, en_word_tokens, en_seqs)\n",
    "        process_seq(fr_tokens, fr_word_tokens, fr_seqs)"
   ]
  },
  {
   "cell_type": "code",
   "execution_count": 5,
   "metadata": {},
   "outputs": [],
   "source": [
    "def getData(word_tokens, seqs):\n",
    "    data = [[word_tokens[j] for j in i] for i in seqs]\n",
    "    return torch.LongTensor(data)"
   ]
  },
  {
   "cell_type": "code",
   "execution_count": 6,
   "metadata": {},
   "outputs": [],
   "source": [
    "en_data = getData(en_word_tokens, en_seqs)"
   ]
  },
  {
   "cell_type": "code",
   "execution_count": 7,
   "metadata": {},
   "outputs": [],
   "source": [
    "fr_data = getData(fr_word_tokens, fr_seqs)"
   ]
  },
  {
   "cell_type": "code",
   "execution_count": 8,
   "metadata": {},
   "outputs": [],
   "source": [
    "data = TensorDataset(en_data, fr_data)"
   ]
  },
  {
   "cell_type": "code",
   "execution_count": 37,
   "metadata": {},
   "outputs": [],
   "source": [
    "#参数配置表\n",
    "batch_size = 1\n",
    "en_word_nums = len(en_word_tokens.keys())\n",
    "fr_word_nums = len(fr_word_tokens.keys())\n",
    "embedding_size = 128\n",
    "gru_hidden_size = 128\n",
    "attention_size = 64"
   ]
  },
  {
   "cell_type": "code",
   "execution_count": 38,
   "metadata": {},
   "outputs": [],
   "source": [
    "dataset = DataLoader(data, batch_size=batch_size, shuffle=True)"
   ]
  },
  {
   "cell_type": "code",
   "execution_count": 39,
   "metadata": {},
   "outputs": [],
   "source": [
    "re_en_words_tokens = {value:key for key, value in en_word_tokens.items()}\n",
    "re_fr_words_tokens = {value:key for key, value in fr_word_tokens.items()}"
   ]
  },
  {
   "cell_type": "code",
   "execution_count": 40,
   "metadata": {},
   "outputs": [
    {
     "name": "stdout",
     "output_type": "stream",
     "text": [
      "[tensor([[  31, 3075,  247,  487,  420, 2123,  111, 2220,    1,    0]]), tensor([[   19,    49,  5270,    68, 12881,  1113,  4315,     2,     0,     0]])]\n",
      "I'm lucky to have you as a friend. <eos> <pad> -> Je suis chanceux de t'avoir pour ami. <eos> <pad> <pad>\n"
     ]
    }
   ],
   "source": [
    "for i in dataset:\n",
    "    en_seq, fr_seq = i\n",
    "    print(i)\n",
    "    for j in range(batch_size):\n",
    "        print(' '.join([re_en_words_tokens[i] for i in en_seq.numpy()[j]]), '->', ' '.join([re_fr_words_tokens[i] for i in fr_seq.numpy()[j]]))\n",
    "    break"
   ]
  },
  {
   "cell_type": "code",
   "execution_count": 49,
   "metadata": {},
   "outputs": [],
   "source": [
    "class Encoder(nn.Module):\n",
    "    def __init__(self, num_embeddings, embedding_dim, hidden_size, batch_size):\n",
    "        super(Encoder, self).__init__()\n",
    "        self.batch_size = batch_size\n",
    "        self.hidden_size = hidden_size\n",
    "        self.num_layer = 1\n",
    "        self.emb = nn.Embedding(num_embeddings, embedding_dim)\n",
    "        self.gru = nn.GRU(embedding_dim, hidden_size,self.num_layer, batch_first=True)\n",
    "    \n",
    "    def forward(self, data_input, init_hidden):\n",
    "        self.data_embd = self.emb(data_input)\n",
    "        outputs, h = self.gru(self.data_embd, init_hidden)\n",
    "        return outputs, h\n",
    "    \n",
    "    def init_hidden(self):\n",
    "        return torch.zeros(self.num_layer, self.batch_size,self.hidden_size)"
   ]
  },
  {
   "cell_type": "code",
   "execution_count": 50,
   "metadata": {},
   "outputs": [],
   "source": [
    "class Attention(nn.Module):\n",
    "    def __init__(self, input_size, attention_size):\n",
    "        super(Attention, self).__init__()\n",
    "        self.linear1 = nn.Linear(input_size, attention_size)\n",
    "        self.tanh = nn.Tanh()\n",
    "        self.linear2 = nn.Linear(attention_size,1)\n",
    "    \n",
    "    def forward(self,encode_states, decode_states):\n",
    "        decode_states = decode_states.squeeze(0).unsqueeze(1)\n",
    "        decode_states, encode_states = torch.broadcast_tensors(decode_states, encode_states)\n",
    "        en_de_states = torch.cat((encode_states, decode_states), dim=2)\n",
    "        l1 = self.linear1(en_de_states)\n",
    "        l2 = self.tanh(l1)\n",
    "        l3 = self.linear2(l2)\n",
    "        weights = nn.Softmax(dim=1)(l3)\n",
    "        contexts = torch.mul(weights,encode_states).sum(dim=1).unsqueeze_(0)\n",
    "        return contexts, weights"
   ]
  },
  {
   "cell_type": "code",
   "execution_count": 51,
   "metadata": {},
   "outputs": [],
   "source": [
    "class Decoder(nn.Module):\n",
    "    def __init__(self, num_embeddings, embedding_dim, hidden_size, attention_size):\n",
    "        super(Decoder, self).__init__()\n",
    "        self.batch_size = batch_size\n",
    "        self.hidden_size = hidden_size\n",
    "        self.num_embeddings = num_embeddings\n",
    "        self.num_layer = 1\n",
    "        self.emb = nn.Embedding(num_embeddings, embedding_dim)\n",
    "        self.gru = nn.GRU(embedding_dim+hidden_size, hidden_size, self.num_layer, batch_first=True)\n",
    "        self.attention = Attention(2*gru_hidden_size, attention_size)\n",
    "        self.output = nn.Linear(self.hidden_size, self.num_embeddings)\n",
    "    \n",
    "    def forward(self, data_input, encode_states, decode_states):\n",
    "        self.data_embd = self.emb(data_input)\n",
    "        self.contexts, self.weights = self.attention(encode_states, decode_states)\n",
    "        self.contexts = self.contexts.squeeze(0).unsqueeze(1)\n",
    "        self.data = torch.cat((self.data_embd, self.contexts), dim = 2)\n",
    "        outputs, h = self.gru(self.data, decode_states)\n",
    "        y = self.output(outputs)\n",
    "        outputs = F.log_softmax(y, dim=2)\n",
    "        return outputs.squeeze(1), h\n"
   ]
  },
  {
   "cell_type": "code",
   "execution_count": 52,
   "metadata": {},
   "outputs": [],
   "source": [
    "def batch_loss(encoder, decoder, batch_size, input_tensor, target_tensor, lossf):\n",
    "    init_encode_hidden = encoder.init_hidden()\n",
    "    encode_states, en_h0 = encoder(input_tensor, init_encode_hidden)\n",
    "    dec_input = torch.LongTensor([fr_word_tokens[BOS]] * batch_size).view(batch_size,-1)\n",
    "    decode_states = en_h0\n",
    "    mask, num_not_pad_tokens = torch.ones(batch_size), 0\n",
    "    batchloss = torch.tensor(0.0)\n",
    "    for y in target_tensor.transpose(0,1):\n",
    "        outputs, decode_states = decoder(dec_input, encode_states, decode_states)\n",
    "        batchloss += (mask*lossf(outputs, y)).sum()\n",
    "        dec_input = y.view(batch_size,-1)\n",
    "        num_not_pad_tokens += mask.sum().item()\n",
    "        t = y != torch.LongTensor([fr_word_tokens[EOS]])\n",
    "        mask = mask * (t.float())\n",
    "        #print(batchloss, num_not_pad_tokens)\n",
    "    return batchloss/num_not_pad_tokens"
   ]
  },
  {
   "cell_type": "code",
   "execution_count": 53,
   "metadata": {},
   "outputs": [],
   "source": [
    "def get_random_data(en_data, fr_data, num):\n",
    "    idx = torch.randint(low=0, high=len(en_data), size = (num,))\n",
    "    return en_data[idx,:].view(-1,max_length), fr_data[idx,:].view(-1,max_length)"
   ]
  },
  {
   "cell_type": "code",
   "execution_count": 54,
   "metadata": {},
   "outputs": [],
   "source": [
    "encoder = Encoder(en_word_nums, embedding_size, gru_hidden_size, batch_size)\n",
    "decoder = Decoder(fr_word_nums, embedding_size, gru_hidden_size, attention_size)"
   ]
  },
  {
   "cell_type": "code",
   "execution_count": 55,
   "metadata": {},
   "outputs": [],
   "source": [
    "epoch = 20\n",
    "epo_bat = 50\n",
    "loss = []\n",
    "encode_optimizer = optim.SGD(encoder.parameters(), lr=0.01, momentum=0.9)\n",
    "decode_optimizer = optim.SGD(decoder.parameters(), lr=0.01, momentum=0.9)\n",
    "lossf = nn.NLLLoss()"
   ]
  },
  {
   "cell_type": "code",
   "execution_count": 56,
   "metadata": {},
   "outputs": [
    {
     "name": "stdout",
     "output_type": "stream",
     "text": [
      "epoch: 0 epoch_b 0 loss: tensor(10.4609, grad_fn=<DivBackward0>)\n",
      "epoch: 0 epoch_b 1 loss: tensor(10.4261, grad_fn=<DivBackward0>)\n",
      "epoch: 0 epoch_b 2 loss: tensor(10.3601, grad_fn=<DivBackward0>)\n",
      "epoch: 0 epoch_b 3 loss: tensor(10.2661, grad_fn=<DivBackward0>)\n",
      "epoch: 0 epoch_b 4 loss: tensor(10.1471, grad_fn=<DivBackward0>)\n",
      "epoch: 0 epoch_b 5 loss: tensor(10.0057, grad_fn=<DivBackward0>)\n",
      "epoch: 0 epoch_b 6 loss: tensor(9.8442, grad_fn=<DivBackward0>)\n",
      "epoch: 0 epoch_b 7 loss: tensor(9.6643, grad_fn=<DivBackward0>)\n",
      "epoch: 0 epoch_b 8 loss: tensor(9.4676, grad_fn=<DivBackward0>)\n",
      "epoch: 0 epoch_b 9 loss: tensor(9.2547, grad_fn=<DivBackward0>)\n",
      "epoch: 0 epoch_b 10 loss: tensor(9.0260, grad_fn=<DivBackward0>)\n",
      "epoch: 0 epoch_b 11 loss: tensor(8.7812, grad_fn=<DivBackward0>)\n",
      "epoch: 0 epoch_b 12 loss: tensor(8.5192, grad_fn=<DivBackward0>)\n",
      "epoch: 0 epoch_b 13 loss: tensor(8.2387, grad_fn=<DivBackward0>)\n",
      "epoch: 0 epoch_b 14 loss: tensor(7.9379, grad_fn=<DivBackward0>)\n",
      "epoch: 0 epoch_b 15 loss: tensor(7.6148, grad_fn=<DivBackward0>)\n",
      "epoch: 0 epoch_b 16 loss: tensor(7.2671, grad_fn=<DivBackward0>)\n",
      "epoch: 0 epoch_b 17 loss: tensor(6.8928, grad_fn=<DivBackward0>)\n",
      "epoch: 0 epoch_b 18 loss: tensor(6.4896, grad_fn=<DivBackward0>)\n",
      "epoch: 0 epoch_b 19 loss: tensor(6.0558, grad_fn=<DivBackward0>)\n",
      "epoch: 0 epoch_b 20 loss: tensor(5.5898, grad_fn=<DivBackward0>)\n",
      "epoch: 0 epoch_b 21 loss: tensor(5.0911, grad_fn=<DivBackward0>)\n",
      "epoch: 0 epoch_b 22 loss: tensor(4.5597, grad_fn=<DivBackward0>)\n",
      "epoch: 0 epoch_b 23 loss: tensor(3.9978, grad_fn=<DivBackward0>)\n",
      "epoch: 0 epoch_b 24 loss: tensor(3.4103, grad_fn=<DivBackward0>)\n",
      "epoch: 0 epoch_b 25 loss: tensor(2.8073, grad_fn=<DivBackward0>)\n",
      "epoch: 0 epoch_b 26 loss: tensor(2.2079, grad_fn=<DivBackward0>)\n",
      "epoch: 0 epoch_b 27 loss: tensor(1.6431, grad_fn=<DivBackward0>)\n",
      "epoch: 0 epoch_b 28 loss: tensor(1.1523, grad_fn=<DivBackward0>)\n",
      "epoch: 0 epoch_b 29 loss: tensor(0.7687, grad_fn=<DivBackward0>)\n",
      "epoch: 0 epoch_b 30 loss: tensor(0.4999, grad_fn=<DivBackward0>)\n",
      "epoch: 0 epoch_b 31 loss: tensor(0.3273, grad_fn=<DivBackward0>)\n",
      "epoch: 0 epoch_b 32 loss: tensor(0.2217, grad_fn=<DivBackward0>)\n",
      "epoch: 0 epoch_b 33 loss: tensor(0.1576, grad_fn=<DivBackward0>)\n",
      "epoch: 0 epoch_b 34 loss: tensor(0.1181, grad_fn=<DivBackward0>)\n",
      "epoch: 0 epoch_b 35 loss: tensor(0.0929, grad_fn=<DivBackward0>)\n",
      "epoch: 0 epoch_b 36 loss: tensor(0.0761, grad_fn=<DivBackward0>)\n",
      "epoch: 0 epoch_b 37 loss: tensor(0.0646, grad_fn=<DivBackward0>)\n",
      "epoch: 0 epoch_b 38 loss: tensor(0.0564, grad_fn=<DivBackward0>)\n",
      "epoch: 0 epoch_b 39 loss: tensor(0.0503, grad_fn=<DivBackward0>)\n",
      "epoch: 0 epoch_b 40 loss: tensor(0.0456, grad_fn=<DivBackward0>)\n",
      "epoch: 0 epoch_b 41 loss: tensor(0.0419, grad_fn=<DivBackward0>)\n",
      "epoch: 0 epoch_b 42 loss: tensor(0.0388, grad_fn=<DivBackward0>)\n",
      "epoch: 0 epoch_b 43 loss: tensor(0.0363, grad_fn=<DivBackward0>)\n",
      "epoch: 0 epoch_b 44 loss: tensor(0.0341, grad_fn=<DivBackward0>)\n",
      "epoch: 0 epoch_b 45 loss: tensor(0.0321, grad_fn=<DivBackward0>)\n",
      "epoch: 0 epoch_b 46 loss: tensor(0.0304, grad_fn=<DivBackward0>)\n",
      "epoch: 0 epoch_b 47 loss: tensor(0.0288, grad_fn=<DivBackward0>)\n",
      "epoch: 0 epoch_b 48 loss: tensor(0.0274, grad_fn=<DivBackward0>)\n",
      "epoch: 0 epoch_b 49 loss: tensor(0.0261, grad_fn=<DivBackward0>)\n",
      "epoch: 1 epoch_b 0 loss: tensor(12.1897, grad_fn=<DivBackward0>)\n",
      "epoch: 1 epoch_b 1 loss: tensor(11.7946, grad_fn=<DivBackward0>)\n",
      "epoch: 1 epoch_b 2 loss: tensor(11.0920, grad_fn=<DivBackward0>)\n",
      "epoch: 1 epoch_b 3 loss: tensor(10.2962, grad_fn=<DivBackward0>)\n",
      "epoch: 1 epoch_b 4 loss: tensor(9.5452, grad_fn=<DivBackward0>)\n",
      "epoch: 1 epoch_b 5 loss: tensor(8.8483, grad_fn=<DivBackward0>)\n",
      "epoch: 1 epoch_b 6 loss: tensor(8.1739, grad_fn=<DivBackward0>)\n",
      "epoch: 1 epoch_b 7 loss: tensor(7.4970, grad_fn=<DivBackward0>)\n"
     ]
    },
    {
     "ename": "KeyboardInterrupt",
     "evalue": "",
     "output_type": "error",
     "traceback": [
      "\u001b[1;31m---------------------------------------------------------------------------\u001b[0m",
      "\u001b[1;31mKeyboardInterrupt\u001b[0m                         Traceback (most recent call last)",
      "\u001b[1;32m<ipython-input-56-0ff8ff63957f>\u001b[0m in \u001b[0;36m<module>\u001b[1;34m\u001b[0m\n\u001b[0;32m      7\u001b[0m         \u001b[0mbatchloss\u001b[0m \u001b[1;33m=\u001b[0m \u001b[0mbatch_loss\u001b[0m\u001b[1;33m(\u001b[0m\u001b[0mencoder\u001b[0m\u001b[1;33m,\u001b[0m \u001b[0mdecoder\u001b[0m\u001b[1;33m,\u001b[0m \u001b[0mbatch_size\u001b[0m\u001b[1;33m,\u001b[0m \u001b[0minput_tensor\u001b[0m\u001b[1;33m,\u001b[0m \u001b[0mtarget_tensor\u001b[0m\u001b[1;33m,\u001b[0m \u001b[0mlossf\u001b[0m\u001b[1;33m)\u001b[0m\u001b[1;33m\u001b[0m\u001b[1;33m\u001b[0m\u001b[0m\n\u001b[0;32m      8\u001b[0m         \u001b[0mbatchloss\u001b[0m\u001b[1;33m.\u001b[0m\u001b[0mbackward\u001b[0m\u001b[1;33m(\u001b[0m\u001b[1;33m)\u001b[0m\u001b[1;33m\u001b[0m\u001b[1;33m\u001b[0m\u001b[0m\n\u001b[1;32m----> 9\u001b[1;33m         \u001b[0mencode_optimizer\u001b[0m\u001b[1;33m.\u001b[0m\u001b[0mstep\u001b[0m\u001b[1;33m(\u001b[0m\u001b[1;33m)\u001b[0m\u001b[1;33m\u001b[0m\u001b[1;33m\u001b[0m\u001b[0m\n\u001b[0m\u001b[0;32m     10\u001b[0m         \u001b[0mdecode_optimizer\u001b[0m\u001b[1;33m.\u001b[0m\u001b[0mstep\u001b[0m\u001b[1;33m(\u001b[0m\u001b[1;33m)\u001b[0m\u001b[1;33m\u001b[0m\u001b[1;33m\u001b[0m\u001b[0m\n\u001b[0;32m     11\u001b[0m         \u001b[0mloss\u001b[0m\u001b[1;33m.\u001b[0m\u001b[0mappend\u001b[0m\u001b[1;33m(\u001b[0m\u001b[0mbatchloss\u001b[0m\u001b[1;33m.\u001b[0m\u001b[0mitem\u001b[0m\u001b[1;33m(\u001b[0m\u001b[1;33m)\u001b[0m\u001b[1;33m)\u001b[0m\u001b[1;33m\u001b[0m\u001b[1;33m\u001b[0m\u001b[0m\n",
      "\u001b[1;32mc:\\users\\dingyang\\appdata\\local\\programs\\python\\python36\\lib\\site-packages\\torch\\optim\\sgd.py\u001b[0m in \u001b[0;36mstep\u001b[1;34m(self, closure)\u001b[0m\n\u001b[0;32m     98\u001b[0m                     \u001b[1;32melse\u001b[0m\u001b[1;33m:\u001b[0m\u001b[1;33m\u001b[0m\u001b[1;33m\u001b[0m\u001b[0m\n\u001b[0;32m     99\u001b[0m                         \u001b[0mbuf\u001b[0m \u001b[1;33m=\u001b[0m \u001b[0mparam_state\u001b[0m\u001b[1;33m[\u001b[0m\u001b[1;34m'momentum_buffer'\u001b[0m\u001b[1;33m]\u001b[0m\u001b[1;33m\u001b[0m\u001b[1;33m\u001b[0m\u001b[0m\n\u001b[1;32m--> 100\u001b[1;33m                         \u001b[0mbuf\u001b[0m\u001b[1;33m.\u001b[0m\u001b[0mmul_\u001b[0m\u001b[1;33m(\u001b[0m\u001b[0mmomentum\u001b[0m\u001b[1;33m)\u001b[0m\u001b[1;33m.\u001b[0m\u001b[0madd_\u001b[0m\u001b[1;33m(\u001b[0m\u001b[1;36m1\u001b[0m \u001b[1;33m-\u001b[0m \u001b[0mdampening\u001b[0m\u001b[1;33m,\u001b[0m \u001b[0md_p\u001b[0m\u001b[1;33m)\u001b[0m\u001b[1;33m\u001b[0m\u001b[1;33m\u001b[0m\u001b[0m\n\u001b[0m\u001b[0;32m    101\u001b[0m                     \u001b[1;32mif\u001b[0m \u001b[0mnesterov\u001b[0m\u001b[1;33m:\u001b[0m\u001b[1;33m\u001b[0m\u001b[1;33m\u001b[0m\u001b[0m\n\u001b[0;32m    102\u001b[0m                         \u001b[0md_p\u001b[0m \u001b[1;33m=\u001b[0m \u001b[0md_p\u001b[0m\u001b[1;33m.\u001b[0m\u001b[0madd\u001b[0m\u001b[1;33m(\u001b[0m\u001b[0mmomentum\u001b[0m\u001b[1;33m,\u001b[0m \u001b[0mbuf\u001b[0m\u001b[1;33m)\u001b[0m\u001b[1;33m\u001b[0m\u001b[1;33m\u001b[0m\u001b[0m\n",
      "\u001b[1;31mKeyboardInterrupt\u001b[0m: "
     ]
    }
   ],
   "source": [
    "for i in range(epoch):\n",
    "    input_tensors, target_tensors = get_random_data(en_data, fr_data, epo_bat)\n",
    "    for j in range(epo_bat):\n",
    "        input_tensor, target_tensor = input_tensors[i,:].view(-1,max_length), target_tensors[i,:].view(-1,max_length)\n",
    "        encoder.zero_grad()\n",
    "        decoder.zero_grad()\n",
    "        batchloss = batch_loss(encoder, decoder, batch_size, input_tensor, target_tensor, lossf)\n",
    "        batchloss.backward()\n",
    "        encode_optimizer.step()\n",
    "        decode_optimizer.step()\n",
    "        loss.append(batchloss.item())\n",
    "        print('epoch:',i, 'epoch_b', j, 'loss:',batchloss)"
   ]
  },
  {
   "cell_type": "code",
   "execution_count": 57,
   "metadata": {},
   "outputs": [],
   "source": [
    "import matplotlib.pyplot as plt"
   ]
  },
  {
   "cell_type": "code",
   "execution_count": 58,
   "metadata": {},
   "outputs": [
    {
     "data": {
      "image/png": "[encoded data removed]",
      "text/plain": [
       "<Figure size 432x288 with 1 Axes>"
      ]
     },
     "metadata": {
      "needs_background": "light"
     },
     "output_type": "display_data"
    }
   ],
   "source": [
    "plt.plot(loss)\n",
    "plt.ylabel('some numbers')\n",
    "plt.show()"
   ]
  },
  {
   "cell_type": "code",
   "execution_count": 59,
   "metadata": {},
   "outputs": [],
   "source": [
    "index = torch.randint(low=0, high=len(en_data), size = (50,))"
   ]
  },
  {
   "cell_type": "code",
   "execution_count": 60,
   "metadata": {},
   "outputs": [],
   "source": [
    "def predict(encoder, decoder, input_tensor):\n",
    "    init_encode_hidden = torch.zeros(1,1,128)\n",
    "    encode_states, en_h0 = encoder(input_tensor, init_encode_hidden)\n",
    "    decode_states = en_h0\n",
    "    dec_input = torch.LongTensor([fr_word_tokens[BOS]] * 1).view(1,-1)\n",
    "    pred_tokens = []\n",
    "    for _ in range(max_length):\n",
    "        outputs, decode_states = decoder(dec_input, encode_states, decode_states)\n",
    "        pred = outputs.argmax(dim=1)\n",
    "        pred_token = re_fr_words_tokens[pred.item()]\n",
    "        if pred_token == EOS:\n",
    "            break\n",
    "        else:\n",
    "            dec_input = pred.view(-1,1)\n",
    "            pred_tokens.append(pred_token)\n",
    "    return ' '.join(pred_tokens)"
   ]
  },
  {
   "cell_type": "code",
   "execution_count": 61,
   "metadata": {},
   "outputs": [
    {
     "data": {
      "text/plain": [
       "tensor([ 94317,  37035,  87330, 108005, 100095,  54012,  66127,  60659,  17929,\n",
       "         19612,   3364,  51565,   7827,  21761, 106184, 106226,  25508,  66734,\n",
       "         70958,  57745,  18636,  95461,  18577,  29399,  40445,   4547,  17796,\n",
       "         45849,   3599,  23927,   3315,  70496,  25553, 101639,  57824,  60602,\n",
       "         52346,  78851,  32392,  84310,  62354,   6985,  60297,  55212,  37511,\n",
       "         58030,  41783,     57,  10098,  34792])"
      ]
     },
     "execution_count": 61,
     "metadata": {},
     "output_type": "execute_result"
    }
   ],
   "source": [
    "index"
   ]
  },
  {
   "cell_type": "code",
   "execution_count": 62,
   "metadata": {
    "scrolled": false
   },
   "outputs": [
    {
     "name": "stdout",
     "output_type": "stream",
     "text": [
      "********************************** testid: 0 **********************************\n",
      "I wonder why karaoke is so popular. <eos> <pad> <pad> -> Je me demande pourquoi le karaoké est aussi populaire. <eos>\n",
      "Mon vélo a un pneu à plat.\n",
      "********************************** testid: 1 **********************************\n",
      "Do you play any sports? <eos> <pad> <pad> <pad> <pad> -> Pratiques-tu quelque sport ? <eos> <pad> <pad> <pad> <pad> <pad> <pad>\n",
      "Mon vélo a un pneu à plat.\n",
      "********************************** testid: 2 **********************************\n",
      "I want to know why this happened. <eos> <pad> <pad> -> Je veux savoir pourquoi ceci s'est produit. <eos> <pad> <pad>\n",
      "Mon vélo a un pneu à plat.\n",
      "********************************** testid: 3 **********************************\n",
      "They spent the afternoon around the pool. <eos> <pad> <pad> -> Elles ont passé l'après-midi autour de la piscine. <eos> <pad>\n",
      "Mon vélo a un pneu à plat.\n",
      "********************************** testid: 4 **********************************\n",
      "She advised him to keep his promises. <eos> <pad> <pad> -> Elle lui a conseillé de tenir ses promesses. <eos> <pad>\n",
      "Mon vélo a un pneu à plat.\n",
      "********************************** testid: 5 **********************************\n",
      "I still love this bicycle. <eos> <pad> <pad> <pad> <pad> -> J'adore toujours ce vélo. <eos> <pad> <pad> <pad> <pad> <pad>\n",
      "Mon vélo a un pneu à plat.\n",
      "********************************** testid: 6 **********************************\n",
      "That's all I needed to hear. <eos> <pad> <pad> <pad> -> C'est tout ce dont j'avais besoin d'entendre. <eos> <pad> <pad>\n",
      "Mon vélo a un pneu à plat.\n",
      "********************************** testid: 7 **********************************\n",
      "She has an agreeable voice. <eos> <pad> <pad> <pad> <pad> -> Elle a une agréable voix. <eos> <pad> <pad> <pad> <pad>\n",
      "Mon vélo a un pneu à plat.\n",
      "********************************** testid: 8 **********************************\n",
      "What's your major? <eos> <pad> <pad> <pad> <pad> <pad> <pad> -> Quelle est ta spécialité ? <eos> <pad> <pad> <pad> <pad> <pad>\n",
      "Mon vélo a un pneu à plat.\n",
      "********************************** testid: 9 **********************************\n",
      "I hate to complain. <eos> <pad> <pad> <pad> <pad> <pad> -> Je déteste me plaindre. <eos> <pad> <pad> <pad> <pad> <pad>\n",
      "Mon vélo a un pneu à plat.\n",
      "********************************** testid: 10 **********************************\n",
      "It amazed me. <eos> <pad> <pad> <pad> <pad> <pad> <pad> -> Ça m'a épaté. <eos> <pad> <pad> <pad> <pad> <pad> <pad>\n",
      "Mon vélo a un pneu à plat.\n",
      "********************************** testid: 11 **********************************\n",
      "Write at least 250 words. <eos> <pad> <pad> <pad> <pad> -> Écris au moins 250 mots. <eos> <pad> <pad> <pad> <pad>\n",
      "Mon vélo a un pneu à plat.\n",
      "********************************** testid: 12 **********************************\n",
      "Try this sauce. <eos> <pad> <pad> <pad> <pad> <pad> <pad> -> Essaie cette sauce. <eos> <pad> <pad> <pad> <pad> <pad> <pad>\n",
      "Mon vélo a un pneu à plat.\n",
      "********************************** testid: 13 **********************************\n",
      "We've just arrived. <eos> <pad> <pad> <pad> <pad> <pad> <pad> -> Nous venons d'arriver. <eos> <pad> <pad> <pad> <pad> <pad> <pad>\n",
      "Mon vélo a un pneu à plat.\n",
      "********************************** testid: 14 **********************************\n",
      "Settle down for a while and concentrate. <eos> <pad> <pad> -> Pose-toi un instant. <eos> <pad> <pad> <pad> <pad> <pad> <pad>\n",
      "Mon vélo a un pneu à plat.\n",
      "********************************** testid: 15 **********************************\n",
      "She is now staying at her uncle's house. <eos> <pad> -> Maintenant, elle est chez son oncle. <eos> <pad> <pad> <pad>\n",
      "Mon vélo a un pneu à plat.\n",
      "********************************** testid: 16 **********************************\n",
      "They are our guests. <eos> <pad> <pad> <pad> <pad> <pad> -> Ils sont nos invités. <eos> <pad> <pad> <pad> <pad> <pad>\n",
      "Mon vélo a un pneu à plat.\n",
      "********************************** testid: 17 **********************************\n",
      "Tom probably went to Boston. <eos> <pad> <pad> <pad> <pad> -> Tom a probablement été à Boston. <eos> <pad> <pad> <pad>\n",
      "Mon vélo a un pneu à plat.\n",
      "********************************** testid: 18 **********************************\n",
      "That boy is speaking English. <eos> <pad> <pad> <pad> <pad> -> Ce garçon sait parler anglais. <eos> <pad> <pad> <pad> <pad>\n",
      "Mon vélo a un pneu à plat.\n",
      "********************************** testid: 19 **********************************\n",
      "Could you read this for me? <eos> <pad> <pad> <pad> -> Pourriez-vous me lire cela ? <eos> <pad> <pad> <pad> <pad>\n",
      "Mon vélo a un pneu à plat.\n",
      "********************************** testid: 20 **********************************\n",
      "Did anyone hear me? <eos> <pad> <pad> <pad> <pad> <pad> -> Quelqu'un m'a-t-il entendu ? <eos> <pad> <pad> <pad> <pad> <pad>\n",
      "Mon vélo a un pneu à plat.\n",
      "********************************** testid: 21 **********************************\n",
      "Tom is a much better liar than you. <eos> <pad> -> Tom est un meilleur menteur que vous. <eos> <pad> <pad>\n",
      "Mon vélo a un pneu à plat.\n",
      "********************************** testid: 22 **********************************\n",
      "Can I rent rackets? <eos> <pad> <pad> <pad> <pad> <pad> -> Puis-je louer des raquettes ? <eos> <pad> <pad> <pad> <pad> <pad>\n",
      "Mon vélo a un pneu à plat.\n",
      "********************************** testid: 23 **********************************\n",
      "It's not fair to you. <eos> <pad> <pad> <pad> <pad> -> Ce n'est pas juste envers toi. <eos> <pad> <pad> <pad>\n",
      "Mon vélo a un pneu à plat.\n",
      "********************************** testid: 24 **********************************\n",
      "Tom amazes me at times. <eos> <pad> <pad> <pad> <pad> -> Tom me surprend par moment. <eos> <pad> <pad> <pad> <pad>\n",
      "Mon vélo a un pneu à plat.\n",
      "********************************** testid: 25 **********************************\n",
      "I had no clue. <eos> <pad> <pad> <pad> <pad> <pad> -> Je n'en avais aucune idée. <eos> <pad> <pad> <pad> <pad>\n",
      "Mon vélo a un pneu à plat.\n",
      "********************************** testid: 26 **********************************\n",
      "We're not so sure. <eos> <pad> <pad> <pad> <pad> <pad> -> Nous n'en sommes pas si sûrs. <eos> <pad> <pad> <pad>\n",
      "Mon vélo a un pneu à plat.\n",
      "********************************** testid: 27 **********************************\n",
      "We'd better go home now. <eos> <pad> <pad> <pad> <pad> -> Nous ferions mieux de rentrer chez nous, maintenant. <eos> <pad>\n",
      "Mon vélo a un pneu à plat.\n",
      "********************************** testid: 28 **********************************\n",
      "That is mine. <eos> <pad> <pad> <pad> <pad> <pad> <pad> -> C'est le mien. <eos> <pad> <pad> <pad> <pad> <pad> <pad>\n",
      "Mon vélo a un pneu à plat.\n",
      "********************************** testid: 29 **********************************\n",
      "I meant what I said. <eos> <pad> <pad> <pad> <pad> -> Je pensais ce que j'ai dit. <eos> <pad> <pad> <pad>\n",
      "Mon vélo a un pneu à plat.\n",
      "********************************** testid: 30 **********************************\n",
      "I've done it. <eos> <pad> <pad> <pad> <pad> <pad> <pad> -> Je l'ai fait. <eos> <pad> <pad> <pad> <pad> <pad> <pad>\n",
      "Mon vélo a un pneu à plat.\n",
      "********************************** testid: 31 **********************************\n",
      "My friend called me a coward. <eos> <pad> <pad> <pad> -> Mon ami m'a traité de lâche. <eos> <pad> <pad> <pad>\n",
      "Mon vélo a un pneu à plat.\n",
      "********************************** testid: 32 **********************************\n",
      "They handcuffed Tom. <eos> <pad> <pad> <pad> <pad> <pad> <pad> -> Ils ont menotté Tom. <eos> <pad> <pad> <pad> <pad> <pad>\n",
      "Mon vélo a un pneu à plat.\n",
      "********************************** testid: 33 **********************************\n",
      "I finally went to England this summer. <eos> <pad> <pad> -> Je suis finalement allé en Angleterre cet été. <eos> <pad>\n",
      "Mon vélo a un pneu à plat.\n",
      "********************************** testid: 34 **********************************\n",
      "Didn't you hear me calling? <eos> <pad> <pad> <pad> <pad> -> Ne m'avez-vous pas entendu appeler ? <eos> <pad> <pad> <pad>\n",
      "Mon vélo a un pneu à plat.\n",
      "********************************** testid: 35 **********************************\n",
      "She came close to drowning. <eos> <pad> <pad> <pad> <pad> -> Elle a failli se noyer. <eos> <pad> <pad> <pad> <pad>\n",
      "Mon vélo a un pneu à plat.\n"
     ]
    },
    {
     "name": "stdout",
     "output_type": "stream",
     "text": [
      "********************************** testid: 36 **********************************\n",
      "Does anyone speak English? <eos> <pad> <pad> <pad> <pad> <pad> -> Quiconque parle-t-il anglais ? <eos> <pad> <pad> <pad> <pad> <pad>\n",
      "Mon vélo a un pneu à plat.\n",
      "********************************** testid: 37 **********************************\n",
      "I really can't leave right now. <eos> <pad> <pad> <pad> -> Je ne peux vraiment pas partir immédiatement. <eos> <pad> <pad>\n",
      "Mon vélo a un pneu à plat.\n",
      "********************************** testid: 38 **********************************\n",
      "He became a policeman. <eos> <pad> <pad> <pad> <pad> <pad> -> Il est devenu policier. <eos> <pad> <pad> <pad> <pad> <pad>\n",
      "Mon vélo a un pneu à plat.\n",
      "********************************** testid: 39 **********************************\n",
      "She tends to be late for school. <eos> <pad> <pad> -> Elle a tendance à arriver en retard à l'école. <eos>\n",
      "Mon vélo a un pneu à plat.\n",
      "********************************** testid: 40 **********************************\n",
      "Write in the date yourself. <eos> <pad> <pad> <pad> <pad> -> Écrivez-y vous-même la date. <eos> <pad> <pad> <pad> <pad> <pad>\n",
      "Mon vélo a un pneu à plat.\n",
      "********************************** testid: 41 **********************************\n",
      "I'll pay later. <eos> <pad> <pad> <pad> <pad> <pad> <pad> -> Je payerai plus tard. <eos> <pad> <pad> <pad> <pad> <pad>\n",
      "Mon vélo a un pneu à plat.\n",
      "********************************** testid: 42 **********************************\n",
      "Let's say no more about it. <eos> <pad> <pad> <pad> -> Ne disons rien de plus à ce sujet. <eos> <pad>\n",
      "Mon vélo a un pneu à plat.\n",
      "********************************** testid: 43 **********************************\n",
      "Keep focused on your work. <eos> <pad> <pad> <pad> <pad> -> Restez concentrés sur votre travail ! <eos> <pad> <pad> <pad>\n",
      "Mon vélo a un pneu à plat.\n",
      "********************************** testid: 44 **********************************\n",
      "He made a bad decision. <eos> <pad> <pad> <pad> <pad> -> Il prit une mauvaise décision. <eos> <pad> <pad> <pad> <pad>\n",
      "Mon vélo a un pneu à plat.\n",
      "********************************** testid: 45 **********************************\n",
      "Don't lose sleep over that. <eos> <pad> <pad> <pad> <pad> -> N'en perds pas le sommeil. <eos> <pad> <pad> <pad> <pad>\n",
      "Mon vélo a un pneu à plat.\n",
      "********************************** testid: 46 **********************************\n",
      "Are you referring to me? <eos> <pad> <pad> <pad> <pad> -> Vous faites allusion à moi ? <eos> <pad> <pad> <pad> <pad>\n",
      "Mon vélo a un pneu à plat.\n",
      "********************************** testid: 47 **********************************\n",
      "We won. <eos> <pad> <pad> <pad> <pad> <pad> <pad> <pad> -> Nous l'emportâmes. <eos> <pad> <pad> <pad> <pad> <pad> <pad> <pad>\n",
      "Mon vélo a un pneu à plat.\n",
      "********************************** testid: 48 **********************************\n",
      "No one got sick. <eos> <pad> <pad> <pad> <pad> <pad> -> Personne n'a été malade. <eos> <pad> <pad> <pad> <pad> <pad>\n",
      "Mon vélo a un pneu à plat.\n",
      "********************************** testid: 49 **********************************\n",
      "She got brushed aside. <eos> <pad> <pad> <pad> <pad> <pad> -> Elle s'est fait écarter. <eos> <pad> <pad> <pad> <pad> <pad>\n",
      "Mon vélo a un pneu à plat.\n"
     ]
    }
   ],
   "source": [
    "testid = 0\n",
    "for idx in index:\n",
    "    input_tensor,target_tensor = en_data[idx,:].view(1,-1), fr_data[idx,:].view(1,-1)\n",
    "    print('**********************************','testid:',testid,'**********************************')\n",
    "    print(' '.join([re_en_words_tokens[i] for i in input_tensor.numpy()[0]]), '->', ' '.join([re_fr_words_tokens[i] for i in target_tensor.numpy()[0]]))\n",
    "    print(predict(encoder, decoder, input_tensor))\n",
    "    testid += 1\n",
    "    "
   ]
  },
  {
   "cell_type": "code",
   "execution_count": 87,
   "metadata": {},
   "outputs": [],
   "source": []
  },
  {
   "cell_type": "code",
   "execution_count": null,
   "metadata": {},
   "outputs": [],
   "source": []
  },
  {
   "cell_type": "code",
   "execution_count": 95,
   "metadata": {},
   "outputs": [],
   "source": []
  },
  {
   "cell_type": "code",
   "execution_count": 96,
   "metadata": {},
   "outputs": [],
   "source": []
  },
  {
   "cell_type": "code",
   "execution_count": null,
   "metadata": {},
   "outputs": [],
   "source": []
  }
 ],
 "metadata": {
  "kernelspec": {
   "display_name": "Python 3",
   "language": "python",
   "name": "python3"
  },
  "language_info": {
   "codemirror_mode": {
    "name": "ipython",
    "version": 3
   },
   "file_extension": ".py",
   "mimetype": "text/x-python",
   "name": "python",
   "nbconvert_exporter": "python",
   "pygments_lexer": "ipython3",
   "version": "3.6.8"
  }
 },
 "nbformat": 4,
 "nbformat_minor": 2
}
